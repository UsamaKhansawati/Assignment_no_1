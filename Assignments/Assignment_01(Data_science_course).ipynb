{
 "cells": [
  {
   "cell_type": "code",
   "execution_count": 1,
   "id": "2663b84d",
   "metadata": {},
   "outputs": [
    {
     "name": "stdout",
     "output_type": "stream",
     "text": [
      "Twinkle, twinkle,little star,\n",
      " \tHow I wonder what you are arel.\n",
      " \t      Up above the world so high, \n",
      " \t      Like a diamond in the sky.\n",
      "Twinkle, twinkle, little star,\n",
      " \tHow I wonder what you are.\n"
     ]
    }
   ],
   "source": [
    "u = (\"Twinkle, twinkle,little star,\\n \\tHow I wonder what you are arel.\\n \\t      Up above the world so high, \\n \\t      Like a diamond in the sky.\\nTwinkle, twinkle, little star,\\n \\tHow I wonder what you are.\")\n",
    "print(u)"
   ]
  },
  {
   "cell_type": "code",
   "execution_count": 8,
   "id": "83b17e13",
   "metadata": {},
   "outputs": [
    {
     "name": "stdout",
     "output_type": "stream",
     "text": [
      "Enter the circle:7\n",
      "circle of Radius is : 1.1146496815286624\n"
     ]
    }
   ],
   "source": [
    "u = int(input(\"Enter the circle:\"))\n",
    "r = 2*3.14\n",
    "result = u/r\n",
    "print(f\"circle of Radius is : {result}\")\n"
   ]
  },
  {
   "cell_type": "code",
   "execution_count": 9,
   "id": "d5741989",
   "metadata": {},
   "outputs": [
    {
     "name": "stdout",
     "output_type": "stream",
     "text": [
      "Enter the First Name :usama\n",
      "Enter the Second Name : khan\n",
      "amasu\n",
      "nahk\n"
     ]
    }
   ],
   "source": [
    "name1 = input(\"Enter the First Name :\")[::-1]\n",
    "name2 = input(\"Enter the Second Name : \") [::-1]\n",
    "print(name1)\n",
    "print(name2)\n"
   ]
  },
  {
   "cell_type": "code",
   "execution_count": 10,
   "id": "99e089ed",
   "metadata": {
    "scrolled": true
   },
   "outputs": [
    {
     "name": "stdout",
     "output_type": "stream",
     "text": [
      "Enter the First Number :8\n",
      "Enter the Second Number :9\n",
      "The First number and second number result is:  17\n"
     ]
    }
   ],
   "source": [
    "num1 = int(input(\"Enter the First Number :\"))\n",
    "num2 = int(input(\"Enter the Second Number :\"))\n",
    "result = num1 + num2\n",
    "print(f\"The First number and second number result is:  {result}\")"
   ]
  },
  {
   "cell_type": "code",
   "execution_count": 2,
   "id": "eeca646d",
   "metadata": {},
   "outputs": [
    {
     "name": "stdout",
     "output_type": "stream",
     "text": [
      "Today Date and Time is now : 2022-01-01 17:54:00.747828\n"
     ]
    }
   ],
   "source": [
    "from datetime import datetime\n",
    "today = datetime.today()\n",
    "print(f\"Today Date and Time is now : {today}\")"
   ]
  },
  {
   "cell_type": "code",
   "execution_count": null,
   "id": "00b6bf46",
   "metadata": {},
   "outputs": [],
   "source": []
  }
 ],
 "metadata": {
  "kernelspec": {
   "display_name": "Python 3 (ipykernel)",
   "language": "python",
   "name": "python3"
  },
  "language_info": {
   "codemirror_mode": {
    "name": "ipython",
    "version": 3
   },
   "file_extension": ".py",
   "mimetype": "text/x-python",
   "name": "python",
   "nbconvert_exporter": "python",
   "pygments_lexer": "ipython3",
   "version": "3.9.7"
  }
 },
 "nbformat": 4,
 "nbformat_minor": 5
}
